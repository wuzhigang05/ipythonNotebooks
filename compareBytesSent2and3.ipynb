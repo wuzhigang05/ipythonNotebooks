{
 "metadata": {
  "name": ""
 },
 "nbformat": 3,
 "nbformat_minor": 0,
 "worksheets": [
  {
   "cells": [
    {
     "cell_type": "heading",
     "level": 1,
     "metadata": {},
     "source": [
      "Goal: check whether the data in bytes_sent2 and bytes_sent3 table are the same."
     ]
    },
    {
     "cell_type": "raw",
     "metadata": {},
     "source": [
      "To do this, we compared the data of three dates that are both existing in these two tables.\n",
      "The dates are: 12-09-2013 12-10-2013 12-11-2013"
     ]
    },
    {
     "cell_type": "code",
     "collapsed": false,
     "input": [
      "import pandas as pd\n",
      "import MySQLdb\n",
      "import datetime as dt"
     ],
     "language": "python",
     "metadata": {},
     "outputs": [],
     "prompt_number": 1
    },
    {
     "cell_type": "markdown",
     "metadata": {},
     "source": [
      "load the data from mysql into memory"
     ]
    },
    {
     "cell_type": "code",
     "collapsed": true,
     "input": [
      "conn = MySQLdb.connect(host=\"reporting-01.cuz8ekupukyf.us-east-1.rds.amazonaws.com\", port=3306, user='zwu', passwd='dp9h4KN6UErheEOB', \n",
      "                db='conduit')\n",
      "d1 = pd.datetools.parse('2013-12-09')\n",
      "d2 = pd.datetools.parse('2013-12-10')\n",
      "d3 = pd.datetools.parse('2013-12-11')\n",
      "b3 = pd.read_sql('select * from bytes_sent3', con=conn)"
     ],
     "language": "python",
     "metadata": {},
     "outputs": [],
     "prompt_number": 2
    },
    {
     "cell_type": "raw",
     "metadata": {},
     "source": [
      "b3d1: data for 2013-12-09 in bytes_sent3\n",
      "b3d2: data for 2013-12-10 in bytes_sent3\n",
      "b3d3: data for 2013-12-11 in bytes_sent3"
     ]
    },
    {
     "cell_type": "code",
     "collapsed": false,
     "input": [
      "b3d1 = b3.ix[(b3['timebucket'] >= d1) & (b3['timebucket'] < d2), :]\n",
      "b3d2 = b3.ix[(b3['timebucket'] >= d2) & (b3['timebucket'] < d3), :]\n",
      "b3d3 = b3.ix[b3['timebucket'] >= d3, :]"
     ],
     "language": "python",
     "metadata": {},
     "outputs": [],
     "prompt_number": 6
    },
    {
     "cell_type": "raw",
     "metadata": {},
     "source": [
      "b2d1: data for 2013-12-09 in bytes_sent2\n",
      "b2d2: data for 2013-12-10 in bytes_sent2\n",
      "b2d3: data for 2013-12-11 in bytes_sent2"
     ]
    },
    {
     "cell_type": "code",
     "collapsed": false,
     "input": [
      "b2d1 = pd.read_sql('select * from bytes_sent2 where timebucket < \"2013-12-10\" and timebucket >= \"2013-12-09\"', con=conn)\n",
      "b2d2 = pd.read_sql('select * from bytes_sent2 where timebucket < \"2013-12-11\" and timebucket >= \"2013-12-10\"', con=conn)\n",
      "b2d3 = pd.read_sql('select * from bytes_sent2 where timebucket < \"2013-12-12\" and timebucket >= \"2013-12-11\"', con=conn)"
     ],
     "language": "python",
     "metadata": {},
     "outputs": [],
     "prompt_number": 7
    },
    {
     "cell_type": "code",
     "collapsed": false,
     "input": [
      "b3d1.shape, b3d2.shape, b3d3.shape, sum(len(i) for i in [b3d1, b3d2, b3d3])"
     ],
     "language": "python",
     "metadata": {},
     "outputs": [
      {
       "metadata": {},
       "output_type": "pyout",
       "prompt_number": 8,
       "text": [
        "((179205, 17), (170068, 17), (168771, 17), 518044)"
       ]
      }
     ],
     "prompt_number": 8
    },
    {
     "cell_type": "code",
     "collapsed": false,
     "input": [
      "b2d1.shape, b2d2.shape, b2d3.shape, sum(len(i) for i in [b2d1, b2d2, b2d3])"
     ],
     "language": "python",
     "metadata": {},
     "outputs": [
      {
       "metadata": {},
       "output_type": "pyout",
       "prompt_number": 9,
       "text": [
        "((179152, 17), (185203, 17), (185556, 17), 549911)"
       ]
      }
     ],
     "prompt_number": 9
    },
    {
     "cell_type": "markdown",
     "metadata": {},
     "source": [
      "**Caution** we found more rows in bytes_sent2 than that in bytes_sent3 on day '2013-12-10' and '2013-12-11'. A breakdown analysis shows that this is due to the data of 23:00 was not loaded into bytes_sent3. "
     ]
    },
    {
     "cell_type": "markdown",
     "metadata": {},
     "source": [
      "**compare b2d1 with b3d1**"
     ]
    },
    {
     "cell_type": "code",
     "collapsed": false,
     "input": [
      "d1Diff = pd.concat([b2d1['timebucket'].value_counts(), b3d1['timebucket'].value_counts()], axis=1)\n",
      "d1Diff.columns = ['b2d1', 'b3d1']\n",
      "d1Diff.sort_index()"
     ],
     "language": "python",
     "metadata": {},
     "outputs": [
      {
       "html": [
        "<div style=\"max-height:1000px;max-width:1500px;overflow:auto;\">\n",
        "<table border=\"1\" class=\"dataframe\">\n",
        "  <thead>\n",
        "    <tr style=\"text-align: right;\">\n",
        "      <th></th>\n",
        "      <th>b2d1</th>\n",
        "      <th>b3d1</th>\n",
        "    </tr>\n",
        "  </thead>\n",
        "  <tbody>\n",
        "    <tr>\n",
        "      <th>2013-12-09 00:00:00</th>\n",
        "      <td> 7587</td>\n",
        "      <td> 7587</td>\n",
        "    </tr>\n",
        "    <tr>\n",
        "      <th>2013-12-09 01:00:00</th>\n",
        "      <td> 7646</td>\n",
        "      <td> 7647</td>\n",
        "    </tr>\n",
        "    <tr>\n",
        "      <th>2013-12-09 02:00:00</th>\n",
        "      <td> 7421</td>\n",
        "      <td> 7421</td>\n",
        "    </tr>\n",
        "    <tr>\n",
        "      <th>2013-12-09 03:00:00</th>\n",
        "      <td> 7576</td>\n",
        "      <td> 7579</td>\n",
        "    </tr>\n",
        "    <tr>\n",
        "      <th>2013-12-09 04:00:00</th>\n",
        "      <td> 7724</td>\n",
        "      <td> 7728</td>\n",
        "    </tr>\n",
        "    <tr>\n",
        "      <th>2013-12-09 05:00:00</th>\n",
        "      <td> 7213</td>\n",
        "      <td> 7217</td>\n",
        "    </tr>\n",
        "    <tr>\n",
        "      <th>2013-12-09 06:00:00</th>\n",
        "      <td> 7265</td>\n",
        "      <td> 7267</td>\n",
        "    </tr>\n",
        "    <tr>\n",
        "      <th>2013-12-09 07:00:00</th>\n",
        "      <td> 6420</td>\n",
        "      <td> 6421</td>\n",
        "    </tr>\n",
        "    <tr>\n",
        "      <th>2013-12-09 08:00:00</th>\n",
        "      <td> 7259</td>\n",
        "      <td> 7261</td>\n",
        "    </tr>\n",
        "    <tr>\n",
        "      <th>2013-12-09 09:00:00</th>\n",
        "      <td> 6757</td>\n",
        "      <td> 6759</td>\n",
        "    </tr>\n",
        "    <tr>\n",
        "      <th>2013-12-09 10:00:00</th>\n",
        "      <td> 6483</td>\n",
        "      <td> 6484</td>\n",
        "    </tr>\n",
        "    <tr>\n",
        "      <th>2013-12-09 11:00:00</th>\n",
        "      <td> 7131</td>\n",
        "      <td> 7132</td>\n",
        "    </tr>\n",
        "    <tr>\n",
        "      <th>2013-12-09 12:00:00</th>\n",
        "      <td> 6471</td>\n",
        "      <td> 6474</td>\n",
        "    </tr>\n",
        "    <tr>\n",
        "      <th>2013-12-09 13:00:00</th>\n",
        "      <td> 6771</td>\n",
        "      <td> 6775</td>\n",
        "    </tr>\n",
        "    <tr>\n",
        "      <th>2013-12-09 14:00:00</th>\n",
        "      <td> 7234</td>\n",
        "      <td> 7234</td>\n",
        "    </tr>\n",
        "    <tr>\n",
        "      <th>2013-12-09 15:00:00</th>\n",
        "      <td> 7579</td>\n",
        "      <td> 7580</td>\n",
        "    </tr>\n",
        "    <tr>\n",
        "      <th>2013-12-09 16:00:00</th>\n",
        "      <td> 7954</td>\n",
        "      <td> 7954</td>\n",
        "    </tr>\n",
        "    <tr>\n",
        "      <th>2013-12-09 17:00:00</th>\n",
        "      <td> 7863</td>\n",
        "      <td> 7864</td>\n",
        "    </tr>\n",
        "    <tr>\n",
        "      <th>2013-12-09 18:00:00</th>\n",
        "      <td> 7698</td>\n",
        "      <td> 7699</td>\n",
        "    </tr>\n",
        "    <tr>\n",
        "      <th>2013-12-09 19:00:00</th>\n",
        "      <td> 7735</td>\n",
        "      <td> 7740</td>\n",
        "    </tr>\n",
        "    <tr>\n",
        "      <th>2013-12-09 20:00:00</th>\n",
        "      <td> 8923</td>\n",
        "      <td> 8927</td>\n",
        "    </tr>\n",
        "    <tr>\n",
        "      <th>2013-12-09 21:00:00</th>\n",
        "      <td> 8456</td>\n",
        "      <td> 8463</td>\n",
        "    </tr>\n",
        "    <tr>\n",
        "      <th>2013-12-09 22:00:00</th>\n",
        "      <td> 8016</td>\n",
        "      <td> 8019</td>\n",
        "    </tr>\n",
        "    <tr>\n",
        "      <th>2013-12-09 23:00:00</th>\n",
        "      <td> 7970</td>\n",
        "      <td> 7973</td>\n",
        "    </tr>\n",
        "  </tbody>\n",
        "</table>\n",
        "</div>"
       ],
       "metadata": {},
       "output_type": "pyout",
       "prompt_number": 11,
       "text": [
        "                     b2d1  b3d1\n",
        "2013-12-09 00:00:00  7587  7587\n",
        "2013-12-09 01:00:00  7646  7647\n",
        "2013-12-09 02:00:00  7421  7421\n",
        "2013-12-09 03:00:00  7576  7579\n",
        "2013-12-09 04:00:00  7724  7728\n",
        "2013-12-09 05:00:00  7213  7217\n",
        "2013-12-09 06:00:00  7265  7267\n",
        "2013-12-09 07:00:00  6420  6421\n",
        "2013-12-09 08:00:00  7259  7261\n",
        "2013-12-09 09:00:00  6757  6759\n",
        "2013-12-09 10:00:00  6483  6484\n",
        "2013-12-09 11:00:00  7131  7132\n",
        "2013-12-09 12:00:00  6471  6474\n",
        "2013-12-09 13:00:00  6771  6775\n",
        "2013-12-09 14:00:00  7234  7234\n",
        "2013-12-09 15:00:00  7579  7580\n",
        "2013-12-09 16:00:00  7954  7954\n",
        "2013-12-09 17:00:00  7863  7864\n",
        "2013-12-09 18:00:00  7698  7699\n",
        "2013-12-09 19:00:00  7735  7740\n",
        "2013-12-09 20:00:00  8923  8927\n",
        "2013-12-09 21:00:00  8456  8463\n",
        "2013-12-09 22:00:00  8016  8019\n",
        "2013-12-09 23:00:00  7970  7973"
       ]
      }
     ],
     "prompt_number": 11
    },
    {
     "cell_type": "code",
     "collapsed": false,
     "input": [
      "d2Diff = pd.concat([b2d2['timebucket'].value_counts(), b3d2['timebucket'].value_counts()], axis=1)\n",
      "d2Diff.columns = ['b2d2', 'b3d2']\n",
      "d2Diff.sort_index()"
     ],
     "language": "python",
     "metadata": {},
     "outputs": [
      {
       "html": [
        "<div style=\"max-height:1000px;max-width:1500px;overflow:auto;\">\n",
        "<table border=\"1\" class=\"dataframe\">\n",
        "  <thead>\n",
        "    <tr style=\"text-align: right;\">\n",
        "      <th></th>\n",
        "      <th>b2d2</th>\n",
        "      <th>b3d2</th>\n",
        "    </tr>\n",
        "  </thead>\n",
        "  <tbody>\n",
        "    <tr>\n",
        "      <th>2013-12-10 00:00:00</th>\n",
        "      <td> 7655</td>\n",
        "      <td> 7658</td>\n",
        "    </tr>\n",
        "    <tr>\n",
        "      <th>2013-12-10 01:00:00</th>\n",
        "      <td> 7611</td>\n",
        "      <td> 7612</td>\n",
        "    </tr>\n",
        "    <tr>\n",
        "      <th>2013-12-10 02:00:00</th>\n",
        "      <td> 7661</td>\n",
        "      <td> 7662</td>\n",
        "    </tr>\n",
        "    <tr>\n",
        "      <th>2013-12-10 03:00:00</th>\n",
        "      <td> 8510</td>\n",
        "      <td> 8510</td>\n",
        "    </tr>\n",
        "    <tr>\n",
        "      <th>2013-12-10 04:00:00</th>\n",
        "      <td> 8132</td>\n",
        "      <td> 8132</td>\n",
        "    </tr>\n",
        "    <tr>\n",
        "      <th>2013-12-10 05:00:00</th>\n",
        "      <td> 8513</td>\n",
        "      <td> 8515</td>\n",
        "    </tr>\n",
        "    <tr>\n",
        "      <th>2013-12-10 06:00:00</th>\n",
        "      <td> 7710</td>\n",
        "      <td> 7711</td>\n",
        "    </tr>\n",
        "    <tr>\n",
        "      <th>2013-12-10 07:00:00</th>\n",
        "      <td> 6766</td>\n",
        "      <td> 6766</td>\n",
        "    </tr>\n",
        "    <tr>\n",
        "      <th>2013-12-10 08:00:00</th>\n",
        "      <td> 6831</td>\n",
        "      <td> 6833</td>\n",
        "    </tr>\n",
        "    <tr>\n",
        "      <th>2013-12-10 09:00:00</th>\n",
        "      <td> 7197</td>\n",
        "      <td> 7199</td>\n",
        "    </tr>\n",
        "    <tr>\n",
        "      <th>2013-12-10 10:00:00</th>\n",
        "      <td> 7257</td>\n",
        "      <td> 7258</td>\n",
        "    </tr>\n",
        "    <tr>\n",
        "      <th>2013-12-10 11:00:00</th>\n",
        "      <td> 6785</td>\n",
        "      <td> 6785</td>\n",
        "    </tr>\n",
        "    <tr>\n",
        "      <th>2013-12-10 12:00:00</th>\n",
        "      <td> 6212</td>\n",
        "      <td> 6213</td>\n",
        "    </tr>\n",
        "    <tr>\n",
        "      <th>2013-12-10 13:00:00</th>\n",
        "      <td> 7393</td>\n",
        "      <td> 7399</td>\n",
        "    </tr>\n",
        "    <tr>\n",
        "      <th>2013-12-10 14:00:00</th>\n",
        "      <td> 7836</td>\n",
        "      <td> 7838</td>\n",
        "    </tr>\n",
        "    <tr>\n",
        "      <th>2013-12-10 15:00:00</th>\n",
        "      <td> 8518</td>\n",
        "      <td> 8518</td>\n",
        "    </tr>\n",
        "    <tr>\n",
        "      <th>2013-12-10 16:00:00</th>\n",
        "      <td> 8397</td>\n",
        "      <td> 8398</td>\n",
        "    </tr>\n",
        "    <tr>\n",
        "      <th>2013-12-10 17:00:00</th>\n",
        "      <td> 7766</td>\n",
        "      <td> 7766</td>\n",
        "    </tr>\n",
        "    <tr>\n",
        "      <th>2013-12-10 18:00:00</th>\n",
        "      <td> 7795</td>\n",
        "      <td> 7795</td>\n",
        "    </tr>\n",
        "    <tr>\n",
        "      <th>2013-12-10 19:00:00</th>\n",
        "      <td> 8028</td>\n",
        "      <td> 8031</td>\n",
        "    </tr>\n",
        "    <tr>\n",
        "      <th>2013-12-10 20:00:00</th>\n",
        "      <td> 7929</td>\n",
        "      <td> 7930</td>\n",
        "    </tr>\n",
        "    <tr>\n",
        "      <th>2013-12-10 21:00:00</th>\n",
        "      <td> 8005</td>\n",
        "      <td> 8005</td>\n",
        "    </tr>\n",
        "    <tr>\n",
        "      <th>2013-12-10 22:00:00</th>\n",
        "      <td> 8540</td>\n",
        "      <td> 1534</td>\n",
        "    </tr>\n",
        "    <tr>\n",
        "      <th>2013-12-10 23:00:00</th>\n",
        "      <td> 8156</td>\n",
        "      <td>  NaN</td>\n",
        "    </tr>\n",
        "  </tbody>\n",
        "</table>\n",
        "</div>"
       ],
       "metadata": {},
       "output_type": "pyout",
       "prompt_number": 12,
       "text": [
        "                     b2d2  b3d2\n",
        "2013-12-10 00:00:00  7655  7658\n",
        "2013-12-10 01:00:00  7611  7612\n",
        "2013-12-10 02:00:00  7661  7662\n",
        "2013-12-10 03:00:00  8510  8510\n",
        "2013-12-10 04:00:00  8132  8132\n",
        "2013-12-10 05:00:00  8513  8515\n",
        "2013-12-10 06:00:00  7710  7711\n",
        "2013-12-10 07:00:00  6766  6766\n",
        "2013-12-10 08:00:00  6831  6833\n",
        "2013-12-10 09:00:00  7197  7199\n",
        "2013-12-10 10:00:00  7257  7258\n",
        "2013-12-10 11:00:00  6785  6785\n",
        "2013-12-10 12:00:00  6212  6213\n",
        "2013-12-10 13:00:00  7393  7399\n",
        "2013-12-10 14:00:00  7836  7838\n",
        "2013-12-10 15:00:00  8518  8518\n",
        "2013-12-10 16:00:00  8397  8398\n",
        "2013-12-10 17:00:00  7766  7766\n",
        "2013-12-10 18:00:00  7795  7795\n",
        "2013-12-10 19:00:00  8028  8031\n",
        "2013-12-10 20:00:00  7929  7930\n",
        "2013-12-10 21:00:00  8005  8005\n",
        "2013-12-10 22:00:00  8540  1534\n",
        "2013-12-10 23:00:00  8156   NaN"
       ]
      }
     ],
     "prompt_number": 12
    },
    {
     "cell_type": "code",
     "collapsed": true,
     "input": [
      "d3Diff = pd.concat([b2d3['timebucket'].value_counts(), b3d3['timebucket'].value_counts()], axis=1)\n",
      "d3Diff.columns = ['b2d3', 'b3d3']\n",
      "d3Diff.sort_index()"
     ],
     "language": "python",
     "metadata": {},
     "outputs": [
      {
       "html": [
        "<div style=\"max-height:1000px;max-width:1500px;overflow:auto;\">\n",
        "<table border=\"1\" class=\"dataframe\">\n",
        "  <thead>\n",
        "    <tr style=\"text-align: right;\">\n",
        "      <th></th>\n",
        "      <th>b2d3</th>\n",
        "      <th>b3d3</th>\n",
        "    </tr>\n",
        "  </thead>\n",
        "  <tbody>\n",
        "    <tr>\n",
        "      <th>2013-12-11 00:00:00</th>\n",
        "      <td> 7555</td>\n",
        "      <td> 7555</td>\n",
        "    </tr>\n",
        "    <tr>\n",
        "      <th>2013-12-11 01:00:00</th>\n",
        "      <td> 7516</td>\n",
        "      <td> 7517</td>\n",
        "    </tr>\n",
        "    <tr>\n",
        "      <th>2013-12-11 02:00:00</th>\n",
        "      <td> 8597</td>\n",
        "      <td> 8600</td>\n",
        "    </tr>\n",
        "    <tr>\n",
        "      <th>2013-12-11 03:00:00</th>\n",
        "      <td> 8502</td>\n",
        "      <td> 8506</td>\n",
        "    </tr>\n",
        "    <tr>\n",
        "      <th>2013-12-11 04:00:00</th>\n",
        "      <td> 8113</td>\n",
        "      <td> 8117</td>\n",
        "    </tr>\n",
        "    <tr>\n",
        "      <th>2013-12-11 05:00:00</th>\n",
        "      <td> 8112</td>\n",
        "      <td> 8131</td>\n",
        "    </tr>\n",
        "    <tr>\n",
        "      <th>2013-12-11 06:00:00</th>\n",
        "      <td> 7591</td>\n",
        "      <td> 7595</td>\n",
        "    </tr>\n",
        "    <tr>\n",
        "      <th>2013-12-11 07:00:00</th>\n",
        "      <td> 6571</td>\n",
        "      <td> 6571</td>\n",
        "    </tr>\n",
        "    <tr>\n",
        "      <th>2013-12-11 08:00:00</th>\n",
        "      <td> 6434</td>\n",
        "      <td> 6436</td>\n",
        "    </tr>\n",
        "    <tr>\n",
        "      <th>2013-12-11 09:00:00</th>\n",
        "      <td> 5964</td>\n",
        "      <td> 5964</td>\n",
        "    </tr>\n",
        "    <tr>\n",
        "      <th>2013-12-11 10:00:00</th>\n",
        "      <td> 6419</td>\n",
        "      <td> 6421</td>\n",
        "    </tr>\n",
        "    <tr>\n",
        "      <th>2013-12-11 11:00:00</th>\n",
        "      <td> 6327</td>\n",
        "      <td> 6327</td>\n",
        "    </tr>\n",
        "    <tr>\n",
        "      <th>2013-12-11 12:00:00</th>\n",
        "      <td> 6446</td>\n",
        "      <td> 6446</td>\n",
        "    </tr>\n",
        "    <tr>\n",
        "      <th>2013-12-11 13:00:00</th>\n",
        "      <td> 6921</td>\n",
        "      <td> 6923</td>\n",
        "    </tr>\n",
        "    <tr>\n",
        "      <th>2013-12-11 14:00:00</th>\n",
        "      <td> 7092</td>\n",
        "      <td> 7092</td>\n",
        "    </tr>\n",
        "    <tr>\n",
        "      <th>2013-12-11 15:00:00</th>\n",
        "      <td> 7520</td>\n",
        "      <td> 7520</td>\n",
        "    </tr>\n",
        "    <tr>\n",
        "      <th>2013-12-11 16:00:00</th>\n",
        "      <td> 8266</td>\n",
        "      <td> 8270</td>\n",
        "    </tr>\n",
        "    <tr>\n",
        "      <th>2013-12-11 17:00:00</th>\n",
        "      <td> 8084</td>\n",
        "      <td> 8086</td>\n",
        "    </tr>\n",
        "    <tr>\n",
        "      <th>2013-12-11 18:00:00</th>\n",
        "      <td> 8346</td>\n",
        "      <td> 8349</td>\n",
        "    </tr>\n",
        "    <tr>\n",
        "      <th>2013-12-11 19:00:00</th>\n",
        "      <td> 8439</td>\n",
        "      <td> 8439</td>\n",
        "    </tr>\n",
        "    <tr>\n",
        "      <th>2013-12-11 20:00:00</th>\n",
        "      <td> 8896</td>\n",
        "      <td> 8896</td>\n",
        "    </tr>\n",
        "    <tr>\n",
        "      <th>2013-12-11 21:00:00</th>\n",
        "      <td> 9294</td>\n",
        "      <td> 9295</td>\n",
        "    </tr>\n",
        "    <tr>\n",
        "      <th>2013-12-11 22:00:00</th>\n",
        "      <td> 9565</td>\n",
        "      <td> 1715</td>\n",
        "    </tr>\n",
        "    <tr>\n",
        "      <th>2013-12-11 23:00:00</th>\n",
        "      <td> 8986</td>\n",
        "      <td>  NaN</td>\n",
        "    </tr>\n",
        "  </tbody>\n",
        "</table>\n",
        "</div>"
       ],
       "metadata": {},
       "output_type": "pyout",
       "prompt_number": 13,
       "text": [
        "                     b2d3  b3d3\n",
        "2013-12-11 00:00:00  7555  7555\n",
        "2013-12-11 01:00:00  7516  7517\n",
        "2013-12-11 02:00:00  8597  8600\n",
        "2013-12-11 03:00:00  8502  8506\n",
        "2013-12-11 04:00:00  8113  8117\n",
        "2013-12-11 05:00:00  8112  8131\n",
        "2013-12-11 06:00:00  7591  7595\n",
        "2013-12-11 07:00:00  6571  6571\n",
        "2013-12-11 08:00:00  6434  6436\n",
        "2013-12-11 09:00:00  5964  5964\n",
        "2013-12-11 10:00:00  6419  6421\n",
        "2013-12-11 11:00:00  6327  6327\n",
        "2013-12-11 12:00:00  6446  6446\n",
        "2013-12-11 13:00:00  6921  6923\n",
        "2013-12-11 14:00:00  7092  7092\n",
        "2013-12-11 15:00:00  7520  7520\n",
        "2013-12-11 16:00:00  8266  8270\n",
        "2013-12-11 17:00:00  8084  8086\n",
        "2013-12-11 18:00:00  8346  8349\n",
        "2013-12-11 19:00:00  8439  8439\n",
        "2013-12-11 20:00:00  8896  8896\n",
        "2013-12-11 21:00:00  9294  9295\n",
        "2013-12-11 22:00:00  9565  1715\n",
        "2013-12-11 23:00:00  8986   NaN"
       ]
      }
     ],
     "prompt_number": 13
    },
    {
     "cell_type": "code",
     "collapsed": false,
     "input": [
      "b2d1Sorted = b2d1.sort(columns=['count'], ascending=False)\n",
      "b3d1Sorted = b3d1.sort(columns=['count'], ascending=False)\n",
      "b2d2Sorted = b2d2.sort(columns=['count'], ascending=False)\n",
      "b3d2Sorted = b3d2.sort(columns=['count'], ascending=False)\n",
      "b2d3Sorted = b2d3.sort(columns=['count'], ascending=False)\n",
      "b3d3Sorted = b3d3.sort(columns=['count'], ascending=False)"
     ],
     "language": "python",
     "metadata": {},
     "outputs": [],
     "prompt_number": 44
    },
    {
     "cell_type": "markdown",
     "metadata": {},
     "source": [
      "join on all columns except the 'total_bytes_sents and 'count columns"
     ]
    },
    {
     "cell_type": "code",
     "collapsed": false,
     "input": [
      "d1Merged = pd.merge(b2d1Sorted, b3d1Sorted, on = b3d1Sorted.columns.tolist()[:-2], how= 'inner')"
     ],
     "language": "python",
     "metadata": {},
     "outputs": [],
     "prompt_number": 36
    },
    {
     "cell_type": "code",
     "collapsed": false,
     "input": [
      "b3d1Sorted.shape, b2d1Sorted.shape, d1Merged.shape"
     ],
     "language": "python",
     "metadata": {},
     "outputs": [
      {
       "metadata": {},
       "output_type": "pyout",
       "prompt_number": 37,
       "text": [
        "((179205, 17), (179152, 17), (179138, 19))"
       ]
      }
     ],
     "prompt_number": 37
    },
    {
     "cell_type": "code",
     "collapsed": false,
     "input": [
      "179138/179152.0"
     ],
     "language": "python",
     "metadata": {},
     "outputs": [
      {
       "metadata": {},
       "output_type": "pyout",
       "prompt_number": 38,
       "text": [
        "0.9999218540680539"
       ]
      }
     ],
     "prompt_number": 38
    },
    {
     "cell_type": "markdown",
     "metadata": {},
     "source": [
      "Join on all columns **Day1**. This is saying all rows in d1Merged2 is exactly same in bytes_sent2 and bytes_sent3"
     ]
    },
    {
     "cell_type": "code",
     "collapsed": false,
     "input": [
      "d1Merged2 = pd.merge(b2d1Sorted, b3d1Sorted, on = b3d1Sorted.columns.tolist(), how= 'inner')"
     ],
     "language": "python",
     "metadata": {},
     "outputs": [],
     "prompt_number": 39
    },
    {
     "cell_type": "code",
     "collapsed": false,
     "input": [
      "b3d1Sorted.shape, b2d1Sorted.shape, d1Merged2.shape"
     ],
     "language": "python",
     "metadata": {},
     "outputs": [
      {
       "metadata": {},
       "output_type": "pyout",
       "prompt_number": 40,
       "text": [
        "((179205, 17), (179152, 17), (178085, 17))"
       ]
      }
     ],
     "prompt_number": 40
    },
    {
     "cell_type": "code",
     "collapsed": false,
     "input": [
      "178085/179152.0"
     ],
     "language": "python",
     "metadata": {},
     "outputs": [
      {
       "metadata": {},
       "output_type": "pyout",
       "prompt_number": 41,
       "text": [
        "0.994044163615254"
       ]
      }
     ],
     "prompt_number": 41
    },
    {
     "cell_type": "markdown",
     "metadata": {},
     "source": [
      "Join on all columns **Day 2**. This is saying all rows in d2Merged is exactly same in bytes_sent2 and bytes_sent3. Remember the data of 23:00 is not available in bytes_sent3."
     ]
    },
    {
     "cell_type": "code",
     "collapsed": false,
     "input": [
      "d2Merged = pd.merge(b2d2Sorted, b3d2Sorted, on = b3d2Sorted.columns.tolist(), how= 'inner')"
     ],
     "language": "python",
     "metadata": {},
     "outputs": [],
     "prompt_number": 45
    },
    {
     "cell_type": "code",
     "collapsed": false,
     "input": [
      "b3d2Sorted.shape, b2d2Sorted.shape, d2Merged.shape"
     ],
     "language": "python",
     "metadata": {},
     "outputs": [
      {
       "metadata": {},
       "output_type": "pyout",
       "prompt_number": 46,
       "text": [
        "((170068, 17), (185203, 17), (167671, 17))"
       ]
      }
     ],
     "prompt_number": 46
    },
    {
     "cell_type": "code",
     "collapsed": false,
     "input": [
      "d2Merged.shape[0]/float(b3d2Sorted.shape[0])"
     ],
     "language": "python",
     "metadata": {},
     "outputs": [
      {
       "metadata": {},
       "output_type": "pyout",
       "prompt_number": 49,
       "text": [
        "0.985905637744902"
       ]
      }
     ],
     "prompt_number": 49
    },
    {
     "cell_type": "code",
     "collapsed": false,
     "input": [
      "Join on all columns **Day 3**. This is saying all rows in d3Merged is exactly same in bytes_sent2 and bytes_sent3. Remember the data of 23:00 is not available in bytes_sent3."
     ],
     "language": "python",
     "metadata": {},
     "outputs": []
    },
    {
     "cell_type": "code",
     "collapsed": false,
     "input": [
      "d3Merged = pd.merge(b2d3Sorted, b3d3Sorted, on = b3d3Sorted.columns.tolist(), how= 'inner')"
     ],
     "language": "python",
     "metadata": {},
     "outputs": [],
     "prompt_number": 50
    },
    {
     "cell_type": "code",
     "collapsed": false,
     "input": [
      "b3d3Sorted.shape, b2d3Sorted.shape, d3Merged.shape"
     ],
     "language": "python",
     "metadata": {},
     "outputs": [
      {
       "metadata": {},
       "output_type": "pyout",
       "prompt_number": 51,
       "text": [
        "((168771, 17), (185556, 17), (166257, 17))"
       ]
      }
     ],
     "prompt_number": 51
    },
    {
     "cell_type": "code",
     "collapsed": false,
     "input": [
      "d3Merged.shape[0]/float(b3d3Sorted.shape[0])"
     ],
     "language": "python",
     "metadata": {},
     "outputs": [
      {
       "metadata": {},
       "output_type": "pyout",
       "prompt_number": 52,
       "text": [
        "0.9851040759372167"
       ]
      }
     ],
     "prompt_number": 52
    }
   ],
   "metadata": {}
  }
 ]
}